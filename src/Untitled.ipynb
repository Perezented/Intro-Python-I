{
 "cells": [
  {
   "cell_type": "code",
   "execution_count": 1,
   "metadata": {},
   "outputs": [
    {
     "name": "stdout",
     "output_type": "stream",
     "text": [
      "Hello\n"
     ]
    }
   ],
   "source": [
    "#Printing in Python 3\n",
    "print('Hello')"
   ]
  },
  {
   "cell_type": "code",
   "execution_count": 2,
   "metadata": {},
   "outputs": [],
   "source": [
    "#Declaring a variable\n",
    "name='Michael'"
   ]
  },
  {
   "cell_type": "code",
   "execution_count": 3,
   "metadata": {},
   "outputs": [
    {
     "name": "stdout",
     "output_type": "stream",
     "text": [
      "Hello Michael\n"
     ]
    }
   ],
   "source": [
    "#Printing with a variable\n",
    "print('Hello ' + name)"
   ]
  },
  {
   "cell_type": "code",
   "execution_count": 4,
   "metadata": {},
   "outputs": [
    {
     "name": "stdout",
     "output_type": "stream",
     "text": [
      "Hello Michael\n"
     ]
    }
   ],
   "source": [
    "if name != 'Michael':\n",
    "    print(\"hey, you are not Michael\")\n",
    "else:\n",
    "    #Interpolating to print with a variable\n",
    "    print(f'Hello {name}')"
   ]
  },
  {
   "cell_type": "code",
   "execution_count": 5,
   "metadata": {},
   "outputs": [
    {
     "name": "stdout",
     "output_type": "stream",
     "text": [
      "[10, 60, 20, 5]\n",
      "[10, 60, 20, 5, 77]\n"
     ]
    }
   ],
   "source": [
    "#Arrays are called Lists in Python\n",
    "newList = []\n",
    "\n",
    "#Create a list with some numbers\n",
    "numbersList = [10, 60, 20, 5]\n",
    "\n",
    "print(numbersList)\n",
    "numbersList.append(77)\n",
    "\n",
    "print(numbersList)"
   ]
  },
  {
   "cell_type": "code",
   "execution_count": 6,
   "metadata": {},
   "outputs": [
    {
     "name": "stdout",
     "output_type": "stream",
     "text": [
      "10\n",
      "60\n",
      "20\n",
      "5\n",
      "77\n"
     ]
    }
   ],
   "source": [
    "\n",
    "#for loop\n",
    "for elem in numbersList: \n",
    "    print(elem)"
   ]
  },
  {
   "cell_type": "code",
   "execution_count": 7,
   "metadata": {},
   "outputs": [
    {
     "name": "stdout",
     "output_type": "stream",
     "text": [
      "Element index number 0 is known as 10\n",
      "Element index number 1 is known as 60\n",
      "Element index number 2 is known as 20\n",
      "Element index number 3 is known as 5\n",
      "Element index number 4 is known as 77\n"
     ]
    }
   ],
   "source": [
    "#enumberate gives us access to each list element and its index\n",
    "for index, element in enumerate(numbersList):\n",
    "    print (f'Element index number {index} is known as {element}')"
   ]
  },
  {
   "cell_type": "code",
   "execution_count": 8,
   "metadata": {},
   "outputs": [
    {
     "name": "stdout",
     "output_type": "stream",
     "text": [
      "0\n",
      "1\n",
      "2\n",
      "3\n",
      "4\n",
      "5\n",
      "6\n",
      "7\n",
      "8\n",
      "9\n"
     ]
    }
   ],
   "source": [
    "#for loop for a specified number\n",
    "for x in range(10):\n",
    "    print(x)"
   ]
  },
  {
   "cell_type": "code",
   "execution_count": 9,
   "metadata": {},
   "outputs": [
    {
     "name": "stdout",
     "output_type": "stream",
     "text": [
      "4\n",
      "5\n",
      "6\n",
      "7\n",
      "8\n"
     ]
    }
   ],
   "source": [
    "for element in range(4, 9):\n",
    "    print(element)"
   ]
  },
  {
   "cell_type": "code",
   "execution_count": 10,
   "metadata": {},
   "outputs": [
    {
     "name": "stdout",
     "output_type": "stream",
     "text": [
      "4\n",
      "7\n",
      "10\n",
      "13\n"
     ]
    }
   ],
   "source": [
    "for element in range(4, 15, 3):\n",
    "    print(element)"
   ]
  },
  {
   "cell_type": "code",
   "execution_count": 13,
   "metadata": {},
   "outputs": [
    {
     "name": "stdout",
     "output_type": "stream",
     "text": [
      "[0, 2, 4, 6, 8, 10, 12, 14, 16, 18, 20]\n"
     ]
    }
   ],
   "source": [
    "# Create a list containing all even numbers up to 20\n",
    "evens = []\n",
    "for n in range(0, 21, 2):\n",
    "    evens.append(n)\n",
    "print(evens)"
   ]
  },
  {
   "cell_type": "code",
   "execution_count": 18,
   "metadata": {},
   "outputs": [
    {
     "name": "stdout",
     "output_type": "stream",
     "text": [
      "[1, 3, 5, 7, 9, 11, 13, 15, 17, 19]\n"
     ]
    }
   ],
   "source": [
    "odds=[]\n",
    "for n in range(20):\n",
    "    if n % 2  != 0:\n",
    "        odds.append(n)\n",
    "print(odds)"
   ]
  },
  {
   "cell_type": "code",
   "execution_count": 21,
   "metadata": {},
   "outputs": [
    {
     "name": "stdout",
     "output_type": "stream",
     "text": [
      "[0, 2, 4, 6, 8, 10, 12, 14, 16, 18, 20]\n"
     ]
    }
   ],
   "source": [
    "evens = []\n",
    "print(evens)\n",
    "# List comprehension\n",
    "evens = [n for n in range(0, 21, 2)]\n",
    "print(evens)\n"
   ]
  },
  {
   "cell_type": "code",
   "execution_count": 23,
   "metadata": {},
   "outputs": [
    {
     "name": "stdout",
     "output_type": "stream",
     "text": [
      "[0, 1, 4, 9, 16, 25, 36, 49, 64, 81, 100, 121, 144, 169, 196, 225, 256, 289, 324, 361]\n",
      "[]\n",
      "[0, 1, 4, 9, 16, 25, 36, 49, 64, 81, 100, 121, 144, 169, 196, 225, 256, 289, 324, 361]\n"
     ]
    }
   ],
   "source": [
    "squares = []\n",
    "for n in range(20):\n",
    "    squares.append(n*n)\n",
    "print(squares)\n",
    "\n",
    "squares = []\n",
    "print(squares)\n",
    "\n",
    "squares = [n*n for n in range(20)]\n",
    "print(squares)"
   ]
  },
  {
   "cell_type": "code",
   "execution_count": 37,
   "metadata": {},
   "outputs": [
    {
     "name": "stdout",
     "output_type": "stream",
     "text": [
      "{'foo': 12, 'bar': 20}\n",
      "{10: 'baz', 15: 'car', 'banana': 'apple', 'holyWHY': {1: 2, 3: 4, 5: 6}}\n",
      "2\n",
      "car\n",
      "apple\n"
     ]
    }
   ],
   "source": [
    "# create an empty dictionary\n",
    "dict = {}\n",
    "e = {'foo': 12, 'bar': 20}\n",
    "print(e)\n",
    "f = {10:'baz', 15: 'car', 'banana': 'apple', 'holyWHY': {1: 2, 3: 4, 5: 6}}\n",
    "print(f)\n",
    "\n",
    "print(f['holyWHY'][1])\n",
    "\n",
    "print(f[15])\n",
    "print(f['banana'])"
   ]
  },
  {
   "cell_type": "code",
   "execution_count": 44,
   "metadata": {},
   "outputs": [
    {
     "name": "stdout",
     "output_type": "stream",
     "text": [
      "Key: 10, value: baz\n",
      "Key: 15, value: car\n",
      "Key: banana, value: apple\n",
      "Key: holyWHY, value: {1: 2, 3: 4, 5: 6}\n",
      "f.keys:  dict_keys([10, 15, 'banana', 'holyWHY'])\n",
      "normal key list 10\n",
      "normal key list 15\n",
      "normal key list banana\n",
      "normal key list holyWHY\n"
     ]
    }
   ],
   "source": [
    "# iterate through a dictionary\n",
    "for key in f:\n",
    "    print(f'Key: {key}, value: {f[key]}')\n",
    "print('f.keys: ', f.keys())\n",
    "for key in f: \n",
    "    print('normal key list', key)"
   ]
  },
  {
   "cell_type": "code",
   "execution_count": 36,
   "metadata": {},
   "outputs": [
    {
     "name": "stdout",
     "output_type": "stream",
     "text": [
      "Key: 10, value: baz\n",
      "Key: 15, value: car\n",
      "Key: banana, value: apple\n"
     ]
    }
   ],
   "source": [
    "for key, value in f.items():\n",
    "    print(f'Key: {key}, value: {value}')"
   ]
  },
  {
   "cell_type": "code",
   "execution_count": 69,
   "metadata": {},
   "outputs": [
    {
     "ename": "SyntaxError",
     "evalue": "'continue' not properly in loop (<ipython-input-69-e341d2e233b5>, line 56)",
     "output_type": "error",
     "traceback": [
      "\u001b[1;36m  File \u001b[1;32m\"<ipython-input-69-e341d2e233b5>\"\u001b[1;36m, line \u001b[1;32m56\u001b[0m\n\u001b[1;31mSyntaxError\u001b[0m\u001b[1;31m:\u001b[0m 'continue' not properly in loop\n"
     ]
    }
   ],
   "source": [
    "# Rock paper scissors\n",
    "\n",
    "# Rules\n",
    "#  Rock => Scissors => Paper => Rock\n",
    "#  Both user and computer have choice\n",
    "#  Compare choices\n",
    "#  Keep track of wins losses and ties. \n",
    "import random\n",
    "\n",
    "wins = 0\n",
    "losses = 0\n",
    "ties = 0\n",
    "\n",
    "humanChoice = input ('rock, paper, or scissors?')\n",
    "possible_choices = ['rock', 'paper', 'scissors']\n",
    "programsChoice = random.choice(possible_choices)\n",
    "#print(f'Program chose {programsChoice}')\n",
    "print(f'You typed {humanChoice}')\n",
    "\n",
    "if humanChoice == 'rock':\n",
    "    if programsChoice == 'rock':\n",
    "        print('It\\'s a tie!')\n",
    "        ties += 1\n",
    "    elif programsChoice == 'paper':\n",
    "        print('Program chose paper, it beat you.')\n",
    "        losses += 1\n",
    "    else:\n",
    "        print('Program chose scissors, You WIN!')\n",
    "        wins += 1\n",
    "elif humanChoice == 'paper':\n",
    "    if programsChoice == 'rock':\n",
    "        print('Program chose rock, You WIN!')\n",
    "        wins += 1\n",
    "    elif programsChoice == 'paper':\n",
    "        print('It\\'s a tie!')\n",
    "        ties += 1\n",
    "    else:\n",
    "        print('Program chose scissors, it beat you.')\n",
    "        losses += 1\n",
    "    \n",
    "elif humanChoice == 'scissors':\n",
    "    if programsChoice == 'rock':\n",
    "        print('Program chose rock, it beat you.')\n",
    "        losses += 1\n",
    "    elif programsChoice == 'paper':\n",
    "        print('Program chose paper, You WIN!')\n",
    "        wins += 1\n",
    "    else:\n",
    "        print('It\\'s a tie!')\n",
    "        ties += 1\n",
    "else:\n",
    "    print('System does not understand. Please choose rock, paper, or scissors')\n",
    "print(f'Wins: {wins} Ties: {ties} Losses: {losses}')"
   ]
  }
 ],
 "metadata": {
  "kernelspec": {
   "display_name": "Python 3",
   "language": "python",
   "name": "python3"
  },
  "language_info": {
   "codemirror_mode": {
    "name": "ipython",
    "version": 3
   },
   "file_extension": ".py",
   "mimetype": "text/x-python",
   "name": "python",
   "nbconvert_exporter": "python",
   "pygments_lexer": "ipython3",
   "version": "3.7.6"
  }
 },
 "nbformat": 4,
 "nbformat_minor": 4
}
